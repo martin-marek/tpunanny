{
 "cells": [
  {
   "cell_type": "code",
   "execution_count": 1,
   "id": "4363d1f6-095d-41da-b880-23946e6e7fda",
   "metadata": {
    "execution": {
     "iopub.execute_input": "2025-09-21T23:04:19.281046Z",
     "iopub.status.busy": "2025-09-21T23:04:19.280859Z",
     "iopub.status.idle": "2025-09-21T23:04:19.776772Z",
     "shell.execute_reply": "2025-09-21T23:04:19.776557Z",
     "shell.execute_reply.started": "2025-09-21T23:04:19.281005Z"
    }
   },
   "outputs": [],
   "source": [
    "import pandas as pd\n",
    "from google.cloud import tpu_v2\n",
    "from datetime import datetime, timedelta\n",
    "from dateutil import parser"
   ]
  },
  {
   "cell_type": "code",
   "execution_count": 2,
   "id": "0d67d98b-8bbf-4801-a9f6-9407018b385b",
   "metadata": {
    "execution": {
     "iopub.execute_input": "2025-09-21T23:04:19.777061Z",
     "iopub.status.busy": "2025-09-21T23:04:19.776975Z",
     "iopub.status.idle": "2025-09-21T23:04:19.778486Z",
     "shell.execute_reply": "2025-09-21T23:04:19.778297Z",
     "shell.execute_reply.started": "2025-09-21T23:04:19.777054Z"
    }
   },
   "outputs": [],
   "source": [
    "project_id = 'picodo-455019'"
   ]
  },
  {
   "cell_type": "code",
   "execution_count": 3,
   "id": "b0ce3c2a-014f-4fe9-8b70-10cb592fd388",
   "metadata": {
    "execution": {
     "iopub.execute_input": "2025-09-21T23:04:19.778911Z",
     "iopub.status.busy": "2025-09-21T23:04:19.778838Z",
     "iopub.status.idle": "2025-09-21T23:04:21.095659Z",
     "shell.execute_reply": "2025-09-21T23:04:21.095434Z",
     "shell.execute_reply.started": "2025-09-21T23:04:19.778904Z"
    }
   },
   "outputs": [
    {
     "data": {
      "text/html": [
       "<style type=\"text/css\">\n",
       "#T_f841a th {\n",
       "  border: 1px solid #000000;\n",
       "}\n",
       "#T_f841a  td {\n",
       "  border: 1px solid #000000;\n",
       "}\n",
       "#T_f841a_row0_col0, #T_f841a_row0_col1, #T_f841a_row0_col2, #T_f841a_row0_col3, #T_f841a_row0_col4, #T_f841a_row0_col5, #T_f841a_row0_col6, #T_f841a_row4_col0, #T_f841a_row4_col1, #T_f841a_row4_col2, #T_f841a_row4_col3, #T_f841a_row4_col4, #T_f841a_row4_col5, #T_f841a_row4_col6, #T_f841a_row5_col0, #T_f841a_row5_col1, #T_f841a_row5_col2, #T_f841a_row5_col3, #T_f841a_row5_col4, #T_f841a_row5_col5, #T_f841a_row5_col6, #T_f841a_row6_col0, #T_f841a_row6_col1, #T_f841a_row6_col2, #T_f841a_row6_col3, #T_f841a_row6_col4, #T_f841a_row6_col5, #T_f841a_row6_col6 {\n",
       "  background-color: #a2de92;\n",
       "}\n",
       "#T_f841a_row1_col0, #T_f841a_row1_col1, #T_f841a_row1_col2, #T_f841a_row1_col3, #T_f841a_row1_col4, #T_f841a_row1_col5, #T_f841a_row1_col6, #T_f841a_row2_col0, #T_f841a_row2_col1, #T_f841a_row2_col2, #T_f841a_row2_col3, #T_f841a_row2_col4, #T_f841a_row2_col5, #T_f841a_row2_col6, #T_f841a_row3_col0, #T_f841a_row3_col1, #T_f841a_row3_col2, #T_f841a_row3_col3, #T_f841a_row3_col4, #T_f841a_row3_col5, #T_f841a_row3_col6 {\n",
       "  background-color: #ffb8b5;\n",
       "}\n",
       "</style>\n",
       "<table id=\"T_f841a\">\n",
       "  <thead>\n",
       "    <tr>\n",
       "      <th class=\"blank level0\" >&nbsp;</th>\n",
       "      <th id=\"T_f841a_level0_col0\" class=\"col_heading level0 col0\" >id</th>\n",
       "      <th id=\"T_f841a_level0_col1\" class=\"col_heading level0 col1\" >zone</th>\n",
       "      <th id=\"T_f841a_level0_col2\" class=\"col_heading level0 col2\" >type</th>\n",
       "      <th id=\"T_f841a_level0_col3\" class=\"col_heading level0 col3\" >spot</th>\n",
       "      <th id=\"T_f841a_level0_col4\" class=\"col_heading level0 col4\" >state</th>\n",
       "      <th id=\"T_f841a_level0_col5\" class=\"col_heading level0 col5\" >created</th>\n",
       "      <th id=\"T_f841a_level0_col6\" class=\"col_heading level0 col6\" >uptime</th>\n",
       "    </tr>\n",
       "  </thead>\n",
       "  <tbody>\n",
       "    <tr>\n",
       "      <th id=\"T_f841a_level0_row0\" class=\"row_heading level0 row0\" >0</th>\n",
       "      <td id=\"T_f841a_row0_col0\" class=\"data row0 col0\" >my-tpu-node</td>\n",
       "      <td id=\"T_f841a_row0_col1\" class=\"data row0 col1\" >us-central2-b</td>\n",
       "      <td id=\"T_f841a_row0_col2\" class=\"data row0 col2\" >v4-64</td>\n",
       "      <td id=\"T_f841a_row0_col3\" class=\"data row0 col3\" >False</td>\n",
       "      <td id=\"T_f841a_row0_col4\" class=\"data row0 col4\" >READY</td>\n",
       "      <td id=\"T_f841a_row0_col5\" class=\"data row0 col5\" >8 days, 3:45:23</td>\n",
       "      <td id=\"T_f841a_row0_col6\" class=\"data row0 col6\" >8 days, 3:45:23</td>\n",
       "    </tr>\n",
       "    <tr>\n",
       "      <th id=\"T_f841a_level0_row1\" class=\"row_heading level0 row1\" >1</th>\n",
       "      <td id=\"T_f841a_row1_col0\" class=\"data row1 col0\" >my_spot_tpu</td>\n",
       "      <td id=\"T_f841a_row1_col1\" class=\"data row1 col1\" >us-east1-d</td>\n",
       "      <td id=\"T_f841a_row1_col2\" class=\"data row1 col2\" >v6e-4</td>\n",
       "      <td id=\"T_f841a_row1_col3\" class=\"data row1 col3\" >True</td>\n",
       "      <td id=\"T_f841a_row1_col4\" class=\"data row1 col4\" >PREEMPTED</td>\n",
       "      <td id=\"T_f841a_row1_col5\" class=\"data row1 col5\" >2 days, 18:10:56</td>\n",
       "      <td id=\"T_f841a_row1_col6\" class=\"data row1 col6\" >0:13:12</td>\n",
       "    </tr>\n",
       "    <tr>\n",
       "      <th id=\"T_f841a_level0_row2\" class=\"row_heading level0 row2\" >2</th>\n",
       "      <td id=\"T_f841a_row2_col0\" class=\"data row2 col0\" >spot-tpu-62c019</td>\n",
       "      <td id=\"T_f841a_row2_col1\" class=\"data row2 col1\" >us-east1-d</td>\n",
       "      <td id=\"T_f841a_row2_col2\" class=\"data row2 col2\" >v6e-4</td>\n",
       "      <td id=\"T_f841a_row2_col3\" class=\"data row2 col3\" >True</td>\n",
       "      <td id=\"T_f841a_row2_col4\" class=\"data row2 col4\" >PREEMPTED</td>\n",
       "      <td id=\"T_f841a_row2_col5\" class=\"data row2 col5\" >2 days, 16:29:19</td>\n",
       "      <td id=\"T_f841a_row2_col6\" class=\"data row2 col6\" >6:26:44</td>\n",
       "    </tr>\n",
       "    <tr>\n",
       "      <th id=\"T_f841a_level0_row3\" class=\"row_heading level0 row3\" >3</th>\n",
       "      <td id=\"T_f841a_row3_col0\" class=\"data row3 col0\" >tpu-v6e-8-spot-1</td>\n",
       "      <td id=\"T_f841a_row3_col1\" class=\"data row3 col1\" >europe-west4-a</td>\n",
       "      <td id=\"T_f841a_row3_col2\" class=\"data row3 col2\" >v6e-8</td>\n",
       "      <td id=\"T_f841a_row3_col3\" class=\"data row3 col3\" >True</td>\n",
       "      <td id=\"T_f841a_row3_col4\" class=\"data row3 col4\" >PREEMPTED</td>\n",
       "      <td id=\"T_f841a_row3_col5\" class=\"data row3 col5\" >2 days, 3:21:54</td>\n",
       "      <td id=\"T_f841a_row3_col6\" class=\"data row3 col6\" >5:46:16</td>\n",
       "    </tr>\n",
       "    <tr>\n",
       "      <th id=\"T_f841a_level0_row4\" class=\"row_heading level0 row4\" >4</th>\n",
       "      <td id=\"T_f841a_row4_col0\" class=\"data row4 col0\" >nanny3</td>\n",
       "      <td id=\"T_f841a_row4_col1\" class=\"data row4 col1\" >europe-west4-a</td>\n",
       "      <td id=\"T_f841a_row4_col2\" class=\"data row4 col2\" >v6e-1</td>\n",
       "      <td id=\"T_f841a_row4_col3\" class=\"data row4 col3\" >True</td>\n",
       "      <td id=\"T_f841a_row4_col4\" class=\"data row4 col4\" >READY</td>\n",
       "      <td id=\"T_f841a_row4_col5\" class=\"data row4 col5\" >1:14:22</td>\n",
       "      <td id=\"T_f841a_row4_col6\" class=\"data row4 col6\" >1:14:22</td>\n",
       "    </tr>\n",
       "    <tr>\n",
       "      <th id=\"T_f841a_level0_row5\" class=\"row_heading level0 row5\" >5</th>\n",
       "      <td id=\"T_f841a_row5_col0\" class=\"data row5 col0\" >nanny4</td>\n",
       "      <td id=\"T_f841a_row5_col1\" class=\"data row5 col1\" >europe-west4-a</td>\n",
       "      <td id=\"T_f841a_row5_col2\" class=\"data row5 col2\" >v6e-1</td>\n",
       "      <td id=\"T_f841a_row5_col3\" class=\"data row5 col3\" >True</td>\n",
       "      <td id=\"T_f841a_row5_col4\" class=\"data row5 col4\" >READY</td>\n",
       "      <td id=\"T_f841a_row5_col5\" class=\"data row5 col5\" >1:10:31</td>\n",
       "      <td id=\"T_f841a_row5_col6\" class=\"data row5 col6\" >1:10:31</td>\n",
       "    </tr>\n",
       "    <tr>\n",
       "      <th id=\"T_f841a_level0_row6\" class=\"row_heading level0 row6\" >6</th>\n",
       "      <td id=\"T_f841a_row6_col0\" class=\"data row6 col0\" >nanny5</td>\n",
       "      <td id=\"T_f841a_row6_col1\" class=\"data row6 col1\" >europe-west4-a</td>\n",
       "      <td id=\"T_f841a_row6_col2\" class=\"data row6 col2\" >v6e-1</td>\n",
       "      <td id=\"T_f841a_row6_col3\" class=\"data row6 col3\" >True</td>\n",
       "      <td id=\"T_f841a_row6_col4\" class=\"data row6 col4\" >READY</td>\n",
       "      <td id=\"T_f841a_row6_col5\" class=\"data row6 col5\" >1:07:31</td>\n",
       "      <td id=\"T_f841a_row6_col6\" class=\"data row6 col6\" >1:07:31</td>\n",
       "    </tr>\n",
       "  </tbody>\n",
       "</table>\n"
      ],
      "text/plain": [
       "<pandas.io.formats.style.Styler at 0x122b826c0>"
      ]
     },
     "execution_count": 3,
     "metadata": {},
     "output_type": "execute_result"
    }
   ],
   "source": [
    "# list all TPUs across all zones\n",
    "client = tpu_v2.TpuClient()\n",
    "parent = f'projects/{project_id}/locations/-'\n",
    "nodes = client.list_nodes(parent=parent)\n",
    "\n",
    "# create table\n",
    "rows = []\n",
    "for node in nodes:\n",
    "    time_created = node.create_time\n",
    "    time_now = datetime.now(node.create_time.tzinfo)\n",
    "    time_last = time_now if not 'maintenance' in node.health_description else parser.parse(node.health_description, fuzzy=True)\n",
    "    row = {\n",
    "        'id': node.name.split('/')[-1],\n",
    "        'zone': node.name.split('/')[3],\n",
    "        'type': node.accelerator_type,\n",
    "        'spot': node.scheduling_config.spot,\n",
    "        'state': node.state.name,\n",
    "        'created': (time_now - time_created).total_seconds(),\n",
    "        'uptime': (time_last - time_created).total_seconds(),\n",
    "        #'health': node.health.name,\n",
    "        #'health desc.': node.health_description,\n",
    "    }\n",
    "    rows += [row]\n",
    "df = pd.DataFrame(rows)\n",
    "\n",
    "# sort table\n",
    "df.sort_values(by='created', ascending=False, inplace=True)\n",
    "df.reset_index(drop=True, inplace=True)\n",
    "\n",
    "# format table\n",
    "def highlight_rows(row):\n",
    "    color_map = {\n",
    "        'READY': 'background-color: #a2de92',\n",
    "        'CREATING': 'background-color: #fffc7f',\n",
    "        'DELETING': 'background-color: #ff963b',\n",
    "        'PREEMPTED': 'background-color: #ffb8b5',\n",
    "    }\n",
    "    return [color_map.get(row['state'], '') for _ in row]\n",
    "df.style.apply(highlight_rows, axis=1).format({\n",
    "    'created': lambda x: timedelta(seconds=round(x)),\n",
    "    'uptime': lambda x: timedelta(seconds=round(x)),\n",
    "}).set_table_styles([\n",
    "    {'selector': 'th, td', 'props': [('border', '1px solid #000000')]}\n",
    "])"
   ]
  },
  {
   "cell_type": "code",
   "execution_count": null,
   "id": "cd02d506-e23d-4b6b-b235-8bd6fa18de70",
   "metadata": {},
   "outputs": [],
   "source": []
  }
 ],
 "metadata": {
  "kernelspec": {
   "display_name": "Python 3 (ipykernel)",
   "language": "python",
   "name": "python3"
  },
  "language_info": {
   "codemirror_mode": {
    "name": "ipython",
    "version": 3
   },
   "file_extension": ".py",
   "mimetype": "text/x-python",
   "name": "python",
   "nbconvert_exporter": "python",
   "pygments_lexer": "ipython3",
   "version": "3.12.11"
  }
 },
 "nbformat": 4,
 "nbformat_minor": 5
}
